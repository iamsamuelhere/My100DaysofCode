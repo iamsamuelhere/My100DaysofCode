{
  "nbformat": 4,
  "nbformat_minor": 0,
  "metadata": {
    "colab": {
      "name": "dataaug.ipynb",
      "provenance": [],
      "collapsed_sections": []
    },
    "kernelspec": {
      "name": "python3",
      "display_name": "Python 3"
    }
  },
  "cells": [
    {
      "cell_type": "code",
      "metadata": {
        "id": "cAPTFAHpYeNR",
        "colab_type": "code",
        "colab": {}
      },
      "source": [
        "from keras.preprocessing.image import ImageDataGenerator,array_to_img,img_to_array,load_img\n",
        "\n",
        "datagen = ImageDataGenerator(\n",
        "        rotation_range=60,\n",
        "        width_shift_range=0.5,\n",
        "        height_shift_range=0.5,\n",
        "        rescale=1./255,\n",
        "        shear_range=0.5,\n",
        "        zoom_range=0.4,\n",
        "        horizontal_flip=True,\n",
        "        fill_mode='nearest',\n",
        "        )"
      ],
      "execution_count": 13,
      "outputs": []
    },
    {
      "cell_type": "code",
      "metadata": {
        "id": "JlibaI44ZZxK",
        "colab_type": "code",
        "colab": {}
      },
      "source": [
        "img = load_img('/content/download (1).jfif') \n",
        "x = img_to_array(img)\n",
        "x = x.reshape((1,) + x.shape)  \n",
        "i = 0\n",
        "for batch in datagen.flow(x, batch_size=1,\n",
        "                          save_to_dir='/content/d', save_prefix='rrr', save_format='jfif'):\n",
        "    i += 1\n",
        "    if i > 20:\n",
        "        break  "
      ],
      "execution_count": 20,
      "outputs": []
    },
    {
      "cell_type": "code",
      "metadata": {
        "id": "oO3KpkHRaJIw",
        "colab_type": "code",
        "colab": {}
      },
      "source": [
        ""
      ],
      "execution_count": null,
      "outputs": []
    }
  ]
}